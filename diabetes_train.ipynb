{
 "cells": [
  {
   "cell_type": "code",
   "execution_count": 68,
   "metadata": {},
   "outputs": [],
   "source": [
    "import pandas as pd\n",
    "import numpy as np\n",
    "import matplotlib.pyplot as plt\n",
    "import tensorflow as tf\n",
    "from tensorflow.keras.layers import Input, Dense, Activation, Dropout\n",
    "from tensorflow.keras.models import Model, Sequential\n",
    "from tensorflow.keras.optimizers import Adam\n",
    "from sklearn.metrics import accuracy_score"
   ]
  },
  {
   "cell_type": "code",
   "execution_count": 69,
   "metadata": {},
   "outputs": [
    {
     "data": {
      "text/html": [
       "<div>\n",
       "<style scoped>\n",
       "    .dataframe tbody tr th:only-of-type {\n",
       "        vertical-align: middle;\n",
       "    }\n",
       "\n",
       "    .dataframe tbody tr th {\n",
       "        vertical-align: top;\n",
       "    }\n",
       "\n",
       "    .dataframe thead th {\n",
       "        text-align: right;\n",
       "    }\n",
       "</style>\n",
       "<table border=\"1\" class=\"dataframe\">\n",
       "  <thead>\n",
       "    <tr style=\"text-align: right;\">\n",
       "      <th></th>\n",
       "      <th>Pregnancies</th>\n",
       "      <th>Glucose</th>\n",
       "      <th>BloodPressure</th>\n",
       "      <th>SkinThickness</th>\n",
       "      <th>Insulin</th>\n",
       "      <th>BMI</th>\n",
       "      <th>DiabetesPedigreeFunction</th>\n",
       "      <th>Age</th>\n",
       "      <th>Outcome</th>\n",
       "    </tr>\n",
       "  </thead>\n",
       "  <tbody>\n",
       "    <tr>\n",
       "      <th>0</th>\n",
       "      <td>6</td>\n",
       "      <td>148</td>\n",
       "      <td>72</td>\n",
       "      <td>35</td>\n",
       "      <td>0</td>\n",
       "      <td>33.6</td>\n",
       "      <td>0.627</td>\n",
       "      <td>50</td>\n",
       "      <td>1</td>\n",
       "    </tr>\n",
       "    <tr>\n",
       "      <th>1</th>\n",
       "      <td>1</td>\n",
       "      <td>85</td>\n",
       "      <td>66</td>\n",
       "      <td>29</td>\n",
       "      <td>0</td>\n",
       "      <td>26.6</td>\n",
       "      <td>0.351</td>\n",
       "      <td>31</td>\n",
       "      <td>0</td>\n",
       "    </tr>\n",
       "    <tr>\n",
       "      <th>2</th>\n",
       "      <td>8</td>\n",
       "      <td>183</td>\n",
       "      <td>64</td>\n",
       "      <td>0</td>\n",
       "      <td>0</td>\n",
       "      <td>23.3</td>\n",
       "      <td>0.672</td>\n",
       "      <td>32</td>\n",
       "      <td>1</td>\n",
       "    </tr>\n",
       "    <tr>\n",
       "      <th>3</th>\n",
       "      <td>1</td>\n",
       "      <td>89</td>\n",
       "      <td>66</td>\n",
       "      <td>23</td>\n",
       "      <td>94</td>\n",
       "      <td>28.1</td>\n",
       "      <td>0.167</td>\n",
       "      <td>21</td>\n",
       "      <td>0</td>\n",
       "    </tr>\n",
       "    <tr>\n",
       "      <th>4</th>\n",
       "      <td>0</td>\n",
       "      <td>137</td>\n",
       "      <td>40</td>\n",
       "      <td>35</td>\n",
       "      <td>168</td>\n",
       "      <td>43.1</td>\n",
       "      <td>2.288</td>\n",
       "      <td>33</td>\n",
       "      <td>1</td>\n",
       "    </tr>\n",
       "  </tbody>\n",
       "</table>\n",
       "</div>"
      ],
      "text/plain": [
       "   Pregnancies  Glucose  BloodPressure  SkinThickness  Insulin   BMI  \\\n",
       "0            6      148             72             35        0  33.6   \n",
       "1            1       85             66             29        0  26.6   \n",
       "2            8      183             64              0        0  23.3   \n",
       "3            1       89             66             23       94  28.1   \n",
       "4            0      137             40             35      168  43.1   \n",
       "\n",
       "   DiabetesPedigreeFunction  Age  Outcome  \n",
       "0                     0.627   50        1  \n",
       "1                     0.351   31        0  \n",
       "2                     0.672   32        1  \n",
       "3                     0.167   21        0  \n",
       "4                     2.288   33        1  "
      ]
     },
     "execution_count": 69,
     "metadata": {},
     "output_type": "execute_result"
    }
   ],
   "source": [
    "df = pd.read_csv(\"./Dataset/diabetes.csv\")\n",
    "df.head()"
   ]
  },
  {
   "cell_type": "code",
   "execution_count": 71,
   "metadata": {},
   "outputs": [
    {
     "data": {
      "text/html": [
       "<div>\n",
       "<style scoped>\n",
       "    .dataframe tbody tr th:only-of-type {\n",
       "        vertical-align: middle;\n",
       "    }\n",
       "\n",
       "    .dataframe tbody tr th {\n",
       "        vertical-align: top;\n",
       "    }\n",
       "\n",
       "    .dataframe thead th {\n",
       "        text-align: right;\n",
       "    }\n",
       "</style>\n",
       "<table border=\"1\" class=\"dataframe\">\n",
       "  <thead>\n",
       "    <tr style=\"text-align: right;\">\n",
       "      <th></th>\n",
       "      <th>Pregnancies</th>\n",
       "      <th>Glucose</th>\n",
       "      <th>BloodPressure</th>\n",
       "      <th>SkinThickness</th>\n",
       "      <th>Insulin</th>\n",
       "      <th>BMI</th>\n",
       "      <th>DiabetesPedigreeFunction</th>\n",
       "      <th>Age</th>\n",
       "      <th>Outcome</th>\n",
       "    </tr>\n",
       "  </thead>\n",
       "  <tbody>\n",
       "    <tr>\n",
       "      <th>0</th>\n",
       "      <td>6</td>\n",
       "      <td>148</td>\n",
       "      <td>72</td>\n",
       "      <td>35</td>\n",
       "      <td>0</td>\n",
       "      <td>33.6</td>\n",
       "      <td>0.627</td>\n",
       "      <td>50</td>\n",
       "      <td>Yes</td>\n",
       "    </tr>\n",
       "    <tr>\n",
       "      <th>1</th>\n",
       "      <td>1</td>\n",
       "      <td>85</td>\n",
       "      <td>66</td>\n",
       "      <td>29</td>\n",
       "      <td>0</td>\n",
       "      <td>26.6</td>\n",
       "      <td>0.351</td>\n",
       "      <td>31</td>\n",
       "      <td>No</td>\n",
       "    </tr>\n",
       "    <tr>\n",
       "      <th>2</th>\n",
       "      <td>8</td>\n",
       "      <td>183</td>\n",
       "      <td>64</td>\n",
       "      <td>0</td>\n",
       "      <td>0</td>\n",
       "      <td>23.3</td>\n",
       "      <td>0.672</td>\n",
       "      <td>32</td>\n",
       "      <td>Yes</td>\n",
       "    </tr>\n",
       "    <tr>\n",
       "      <th>3</th>\n",
       "      <td>1</td>\n",
       "      <td>89</td>\n",
       "      <td>66</td>\n",
       "      <td>23</td>\n",
       "      <td>94</td>\n",
       "      <td>28.1</td>\n",
       "      <td>0.167</td>\n",
       "      <td>21</td>\n",
       "      <td>No</td>\n",
       "    </tr>\n",
       "    <tr>\n",
       "      <th>4</th>\n",
       "      <td>0</td>\n",
       "      <td>137</td>\n",
       "      <td>40</td>\n",
       "      <td>35</td>\n",
       "      <td>168</td>\n",
       "      <td>43.1</td>\n",
       "      <td>2.288</td>\n",
       "      <td>33</td>\n",
       "      <td>Yes</td>\n",
       "    </tr>\n",
       "  </tbody>\n",
       "</table>\n",
       "</div>"
      ],
      "text/plain": [
       "   Pregnancies  Glucose  BloodPressure  SkinThickness  Insulin   BMI  \\\n",
       "0            6      148             72             35        0  33.6   \n",
       "1            1       85             66             29        0  26.6   \n",
       "2            8      183             64              0        0  23.3   \n",
       "3            1       89             66             23       94  28.1   \n",
       "4            0      137             40             35      168  43.1   \n",
       "\n",
       "   DiabetesPedigreeFunction  Age Outcome  \n",
       "0                     0.627   50     Yes  \n",
       "1                     0.351   31      No  \n",
       "2                     0.672   32     Yes  \n",
       "3                     0.167   21      No  \n",
       "4                     2.288   33     Yes  "
      ]
     },
     "execution_count": 71,
     "metadata": {},
     "output_type": "execute_result"
    }
   ],
   "source": [
    "df['Outcome'].replace({1: 'Yes', 0: 'No'}, inplace=True)\n",
    "df.head()"
   ]
  },
  {
   "cell_type": "code",
   "execution_count": 72,
   "metadata": {},
   "outputs": [
    {
     "data": {
      "text/html": [
       "<div>\n",
       "<style scoped>\n",
       "    .dataframe tbody tr th:only-of-type {\n",
       "        vertical-align: middle;\n",
       "    }\n",
       "\n",
       "    .dataframe tbody tr th {\n",
       "        vertical-align: top;\n",
       "    }\n",
       "\n",
       "    .dataframe thead th {\n",
       "        text-align: right;\n",
       "    }\n",
       "</style>\n",
       "<table border=\"1\" class=\"dataframe\">\n",
       "  <thead>\n",
       "    <tr style=\"text-align: right;\">\n",
       "      <th></th>\n",
       "      <th>Pregnancies</th>\n",
       "      <th>Glucose</th>\n",
       "      <th>BloodPressure</th>\n",
       "      <th>SkinThickness</th>\n",
       "      <th>Insulin</th>\n",
       "      <th>BMI</th>\n",
       "      <th>DiabetesPedigreeFunction</th>\n",
       "      <th>Age</th>\n",
       "      <th>Outcome_No</th>\n",
       "      <th>Outcome_Yes</th>\n",
       "    </tr>\n",
       "  </thead>\n",
       "  <tbody>\n",
       "    <tr>\n",
       "      <th>0</th>\n",
       "      <td>6</td>\n",
       "      <td>148</td>\n",
       "      <td>72</td>\n",
       "      <td>35</td>\n",
       "      <td>0</td>\n",
       "      <td>33.6</td>\n",
       "      <td>0.627</td>\n",
       "      <td>50</td>\n",
       "      <td>0</td>\n",
       "      <td>1</td>\n",
       "    </tr>\n",
       "    <tr>\n",
       "      <th>1</th>\n",
       "      <td>1</td>\n",
       "      <td>85</td>\n",
       "      <td>66</td>\n",
       "      <td>29</td>\n",
       "      <td>0</td>\n",
       "      <td>26.6</td>\n",
       "      <td>0.351</td>\n",
       "      <td>31</td>\n",
       "      <td>1</td>\n",
       "      <td>0</td>\n",
       "    </tr>\n",
       "    <tr>\n",
       "      <th>2</th>\n",
       "      <td>8</td>\n",
       "      <td>183</td>\n",
       "      <td>64</td>\n",
       "      <td>0</td>\n",
       "      <td>0</td>\n",
       "      <td>23.3</td>\n",
       "      <td>0.672</td>\n",
       "      <td>32</td>\n",
       "      <td>0</td>\n",
       "      <td>1</td>\n",
       "    </tr>\n",
       "    <tr>\n",
       "      <th>3</th>\n",
       "      <td>1</td>\n",
       "      <td>89</td>\n",
       "      <td>66</td>\n",
       "      <td>23</td>\n",
       "      <td>94</td>\n",
       "      <td>28.1</td>\n",
       "      <td>0.167</td>\n",
       "      <td>21</td>\n",
       "      <td>1</td>\n",
       "      <td>0</td>\n",
       "    </tr>\n",
       "    <tr>\n",
       "      <th>4</th>\n",
       "      <td>0</td>\n",
       "      <td>137</td>\n",
       "      <td>40</td>\n",
       "      <td>35</td>\n",
       "      <td>168</td>\n",
       "      <td>43.1</td>\n",
       "      <td>2.288</td>\n",
       "      <td>33</td>\n",
       "      <td>0</td>\n",
       "      <td>1</td>\n",
       "    </tr>\n",
       "  </tbody>\n",
       "</table>\n",
       "</div>"
      ],
      "text/plain": [
       "   Pregnancies  Glucose  BloodPressure  SkinThickness  Insulin   BMI  \\\n",
       "0            6      148             72             35        0  33.6   \n",
       "1            1       85             66             29        0  26.6   \n",
       "2            8      183             64              0        0  23.3   \n",
       "3            1       89             66             23       94  28.1   \n",
       "4            0      137             40             35      168  43.1   \n",
       "\n",
       "   DiabetesPedigreeFunction  Age  Outcome_No  Outcome_Yes  \n",
       "0                     0.627   50           0            1  \n",
       "1                     0.351   31           1            0  \n",
       "2                     0.672   32           0            1  \n",
       "3                     0.167   21           1            0  \n",
       "4                     2.288   33           0            1  "
      ]
     },
     "execution_count": 72,
     "metadata": {},
     "output_type": "execute_result"
    }
   ],
   "source": [
    "df = pd.get_dummies(df, columns=['Outcome'])\n",
    "df.head()"
   ]
  },
  {
   "cell_type": "code",
   "execution_count": 75,
   "metadata": {},
   "outputs": [],
   "source": [
    "# Split the dataset into features (X) and target (y)\n",
    "X = df.drop(columns=['Outcome_No', 'Outcome_Yes'], axis=1)  # Features\n",
    "y = df.drop(columns=['Pregnancies', 'Glucose', 'BloodPressure','SkinThickness', 'Insulin', 'BMI', 'DiabetesPedigreeFunction','Age'], axis=1)  # labels"
   ]
  },
  {
   "cell_type": "code",
   "execution_count": 78,
   "metadata": {},
   "outputs": [
    {
     "name": "stdout",
     "output_type": "stream",
     "text": [
      "Shape of X_train and X_test: (614, 8) (154, 8)\n",
      "Shape of y_train and y_test: (614, 2) (154, 2)\n"
     ]
    }
   ],
   "source": [
    "from sklearn.model_selection import train_test_split\n",
    "# Split the data into training and testing sets (80-20 split)\n",
    "X_train, X_test, y_train, y_test = train_test_split(X, y, test_size=0.2, random_state=42)\n",
    "print('Shape of X_train and X_test:', X_train.shape, X_test.shape)\n",
    "print('Shape of y_train and y_test:', y_train.shape, y_test.shape)"
   ]
  },
  {
   "cell_type": "code",
   "execution_count": 79,
   "metadata": {},
   "outputs": [],
   "source": [
    "from sklearn.preprocessing import StandardScaler\n",
    "# Scale features (standardization)\n",
    "scaler = StandardScaler()\n",
    "X_train = scaler.fit_transform(X_train)\n",
    "X_test = scaler.transform(X_test)"
   ]
  },
  {
   "cell_type": "code",
   "execution_count": 80,
   "metadata": {},
   "outputs": [
    {
     "data": {
      "text/plain": [
       "array([  3.74267101, 120.85504886,  69.41530945,  20.3990228 ,\n",
       "        81.43811075,  31.98338762,   0.46916775,  32.90716612])"
      ]
     },
     "execution_count": 80,
     "metadata": {},
     "output_type": "execute_result"
    }
   ],
   "source": [
    "# Store mean and std for each feature\n",
    "means = scaler.mean_\n",
    "stds = scaler.scale_\n",
    "means"
   ]
  },
  {
   "cell_type": "code",
   "execution_count": 81,
   "metadata": {},
   "outputs": [
    {
     "data": {
      "text/plain": [
       "array([  3.31056497,  32.00895893,  18.49751705,  15.42140098,\n",
       "       116.14014299,   7.73431907,   0.33657233,  11.49406506])"
      ]
     },
     "execution_count": 81,
     "metadata": {},
     "output_type": "execute_result"
    }
   ],
   "source": [
    "stds"
   ]
  },
  {
   "cell_type": "code",
   "execution_count": 82,
   "metadata": {},
   "outputs": [
    {
     "name": "stdout",
     "output_type": "stream",
     "text": [
      "(768, 2)\n"
     ]
    }
   ],
   "source": [
    "print(y.shape)"
   ]
  },
  {
   "cell_type": "code",
   "execution_count": null,
   "metadata": {},
   "outputs": [
    {
     "name": "stdout",
     "output_type": "stream",
     "text": [
      "8\n",
      "2\n",
      "Model: \"sequential_2\"\n",
      "_________________________________________________________________\n",
      " Layer (type)                Output Shape              Param #   \n",
      "=================================================================\n",
      " flatten_2 (Flatten)         (None, 8)                 0         \n",
      "                                                                 \n",
      " dense_7 (Dense)             (None, 48)                432       \n",
      "                                                                 \n",
      " dense_8 (Dense)             (None, 16)                784       \n",
      "                                                                 \n",
      " dense_9 (Dense)             (None, 2)                 34        \n",
      "                                                                 \n",
      "=================================================================\n",
      "Total params: 1,250\n",
      "Trainable params: 1,250\n",
      "Non-trainable params: 0\n",
      "_________________________________________________________________\n"
     ]
    }
   ],
   "source": [
    "DENSE1_SIZE = 48\n",
    "DENSE2_SIZE = 16\n",
    "NUM_OF_EPOCHS = 50 \n",
    "BATCH_SIZE = 8\n",
    "\n",
    "model = tf.keras.Sequential()\n",
    "\n",
    "input_shape = X.shape[1]\n",
    "print(input_shape)\n",
    "model.add(tf.keras.layers.Flatten(input_shape =(X.shape[1],)))\n",
    "\n",
    "model.add(tf.keras.layers.Dense(DENSE1_SIZE, activation='relu'))\n",
    "\n",
    "\n",
    "output_shape = y.shape[1]\n",
    "print(output_shape)\n",
    "model.add(tf.keras.layers.Dense(y.shape[1], activation='softmax'))\n",
    "model.compile(loss='categorical_crossentropy', optimizer='adam', metrics=['acc'])\n",
    "model.summary()"
   ]
  },
  {
   "cell_type": "code",
   "execution_count": 85,
   "metadata": {},
   "outputs": [
    {
     "name": "stdout",
     "output_type": "stream",
     "text": [
      "Epoch 1/50\n",
      "62/62 [==============================] - 1s 6ms/step - loss: 0.7087 - acc: 0.5682 - val_loss: 0.6032 - val_acc: 0.6667\n",
      "Epoch 2/50\n",
      "62/62 [==============================] - 0s 2ms/step - loss: 0.5302 - acc: 0.7373 - val_loss: 0.5348 - val_acc: 0.6829\n",
      "Epoch 3/50\n",
      "62/62 [==============================] - 0s 2ms/step - loss: 0.4813 - acc: 0.7760 - val_loss: 0.5142 - val_acc: 0.7154\n",
      "Epoch 4/50\n",
      "62/62 [==============================] - 0s 2ms/step - loss: 0.4627 - acc: 0.7719 - val_loss: 0.4950 - val_acc: 0.7398\n",
      "Epoch 5/50\n",
      "62/62 [==============================] - 0s 2ms/step - loss: 0.4499 - acc: 0.7760 - val_loss: 0.4800 - val_acc: 0.7398\n",
      "Epoch 6/50\n",
      "62/62 [==============================] - 0s 2ms/step - loss: 0.4442 - acc: 0.7841 - val_loss: 0.4759 - val_acc: 0.7480\n",
      "Epoch 7/50\n",
      "62/62 [==============================] - 0s 2ms/step - loss: 0.4389 - acc: 0.7902 - val_loss: 0.4761 - val_acc: 0.7317\n",
      "Epoch 8/50\n",
      "62/62 [==============================] - 0s 2ms/step - loss: 0.4284 - acc: 0.7923 - val_loss: 0.4830 - val_acc: 0.7236\n",
      "Epoch 9/50\n",
      "62/62 [==============================] - 0s 2ms/step - loss: 0.4261 - acc: 0.7902 - val_loss: 0.4781 - val_acc: 0.7317\n",
      "Epoch 10/50\n",
      "62/62 [==============================] - 0s 2ms/step - loss: 0.4222 - acc: 0.7943 - val_loss: 0.4747 - val_acc: 0.7398\n",
      "Epoch 11/50\n",
      "62/62 [==============================] - 0s 2ms/step - loss: 0.4182 - acc: 0.7963 - val_loss: 0.4742 - val_acc: 0.7398\n",
      "Epoch 12/50\n",
      "62/62 [==============================] - 0s 2ms/step - loss: 0.4134 - acc: 0.8086 - val_loss: 0.4821 - val_acc: 0.7398\n",
      "Epoch 13/50\n",
      "62/62 [==============================] - 0s 2ms/step - loss: 0.4113 - acc: 0.7963 - val_loss: 0.4787 - val_acc: 0.7317\n",
      "Epoch 14/50\n",
      "62/62 [==============================] - 0s 2ms/step - loss: 0.4075 - acc: 0.7963 - val_loss: 0.4756 - val_acc: 0.7398\n",
      "Epoch 15/50\n",
      "62/62 [==============================] - 0s 2ms/step - loss: 0.4006 - acc: 0.8065 - val_loss: 0.4750 - val_acc: 0.7398\n",
      "Epoch 16/50\n",
      "62/62 [==============================] - 0s 2ms/step - loss: 0.3992 - acc: 0.8106 - val_loss: 0.4821 - val_acc: 0.7236\n",
      "Epoch 17/50\n",
      "62/62 [==============================] - 0s 2ms/step - loss: 0.3973 - acc: 0.8147 - val_loss: 0.4790 - val_acc: 0.7317\n",
      "Epoch 18/50\n",
      "62/62 [==============================] - 0s 2ms/step - loss: 0.3931 - acc: 0.8187 - val_loss: 0.4776 - val_acc: 0.7236\n",
      "Epoch 19/50\n",
      "62/62 [==============================] - 0s 2ms/step - loss: 0.3880 - acc: 0.8065 - val_loss: 0.4849 - val_acc: 0.7317\n",
      "Epoch 20/50\n",
      "62/62 [==============================] - 0s 2ms/step - loss: 0.3879 - acc: 0.8126 - val_loss: 0.4864 - val_acc: 0.7398\n",
      "Epoch 21/50\n",
      "62/62 [==============================] - 0s 2ms/step - loss: 0.3859 - acc: 0.8086 - val_loss: 0.4825 - val_acc: 0.7398\n",
      "Epoch 22/50\n",
      "62/62 [==============================] - 0s 2ms/step - loss: 0.3866 - acc: 0.8065 - val_loss: 0.4874 - val_acc: 0.7398\n",
      "Epoch 23/50\n",
      "62/62 [==============================] - 0s 2ms/step - loss: 0.3808 - acc: 0.8147 - val_loss: 0.4853 - val_acc: 0.7398\n",
      "Epoch 24/50\n",
      "62/62 [==============================] - 0s 2ms/step - loss: 0.3798 - acc: 0.8086 - val_loss: 0.4819 - val_acc: 0.7480\n",
      "Epoch 25/50\n",
      "62/62 [==============================] - 0s 2ms/step - loss: 0.3756 - acc: 0.8187 - val_loss: 0.4827 - val_acc: 0.7480\n",
      "Epoch 26/50\n",
      "62/62 [==============================] - 0s 2ms/step - loss: 0.3735 - acc: 0.8106 - val_loss: 0.4860 - val_acc: 0.7480\n",
      "Epoch 27/50\n",
      "62/62 [==============================] - 0s 2ms/step - loss: 0.3697 - acc: 0.8228 - val_loss: 0.4910 - val_acc: 0.7561\n",
      "Epoch 28/50\n",
      "62/62 [==============================] - 0s 2ms/step - loss: 0.3728 - acc: 0.8228 - val_loss: 0.5016 - val_acc: 0.7480\n",
      "Epoch 29/50\n",
      "62/62 [==============================] - 0s 2ms/step - loss: 0.3677 - acc: 0.8208 - val_loss: 0.4819 - val_acc: 0.7561\n",
      "Epoch 30/50\n",
      "62/62 [==============================] - 0s 2ms/step - loss: 0.3686 - acc: 0.8289 - val_loss: 0.4902 - val_acc: 0.7317\n",
      "Epoch 31/50\n",
      "62/62 [==============================] - 0s 2ms/step - loss: 0.3622 - acc: 0.8248 - val_loss: 0.4944 - val_acc: 0.7317\n",
      "Epoch 32/50\n",
      "62/62 [==============================] - 0s 2ms/step - loss: 0.3576 - acc: 0.8228 - val_loss: 0.4916 - val_acc: 0.7236\n",
      "Epoch 33/50\n",
      "62/62 [==============================] - 0s 2ms/step - loss: 0.3571 - acc: 0.8248 - val_loss: 0.4909 - val_acc: 0.7317\n",
      "Epoch 34/50\n",
      "62/62 [==============================] - 0s 2ms/step - loss: 0.3527 - acc: 0.8248 - val_loss: 0.4997 - val_acc: 0.7561\n",
      "Epoch 35/50\n",
      "62/62 [==============================] - 0s 2ms/step - loss: 0.3526 - acc: 0.8310 - val_loss: 0.4947 - val_acc: 0.7398\n",
      "Epoch 36/50\n",
      "62/62 [==============================] - 0s 2ms/step - loss: 0.3496 - acc: 0.8330 - val_loss: 0.4982 - val_acc: 0.7642\n",
      "Epoch 37/50\n",
      "62/62 [==============================] - 0s 2ms/step - loss: 0.3473 - acc: 0.8350 - val_loss: 0.5046 - val_acc: 0.7398\n",
      "Epoch 38/50\n",
      "62/62 [==============================] - 0s 2ms/step - loss: 0.3462 - acc: 0.8269 - val_loss: 0.4958 - val_acc: 0.7398\n",
      "Epoch 39/50\n",
      "62/62 [==============================] - 0s 2ms/step - loss: 0.3438 - acc: 0.8310 - val_loss: 0.4977 - val_acc: 0.7317\n",
      "Epoch 40/50\n",
      "62/62 [==============================] - 0s 2ms/step - loss: 0.3378 - acc: 0.8473 - val_loss: 0.4966 - val_acc: 0.7561\n",
      "Epoch 41/50\n",
      "62/62 [==============================] - 0s 2ms/step - loss: 0.3398 - acc: 0.8452 - val_loss: 0.5001 - val_acc: 0.7317\n",
      "Epoch 42/50\n",
      "62/62 [==============================] - 0s 2ms/step - loss: 0.3339 - acc: 0.8411 - val_loss: 0.5009 - val_acc: 0.7398\n",
      "Epoch 43/50\n",
      "62/62 [==============================] - 0s 3ms/step - loss: 0.3337 - acc: 0.8391 - val_loss: 0.5045 - val_acc: 0.7398\n",
      "Epoch 44/50\n",
      "62/62 [==============================] - 0s 2ms/step - loss: 0.3349 - acc: 0.8554 - val_loss: 0.5026 - val_acc: 0.7480\n",
      "Epoch 45/50\n",
      "62/62 [==============================] - 0s 3ms/step - loss: 0.3321 - acc: 0.8411 - val_loss: 0.5173 - val_acc: 0.7480\n",
      "Epoch 46/50\n",
      "62/62 [==============================] - 0s 2ms/step - loss: 0.3278 - acc: 0.8411 - val_loss: 0.5141 - val_acc: 0.7480\n",
      "Epoch 47/50\n",
      "62/62 [==============================] - 0s 2ms/step - loss: 0.3267 - acc: 0.8595 - val_loss: 0.5102 - val_acc: 0.7642\n",
      "Epoch 48/50\n",
      "62/62 [==============================] - 0s 2ms/step - loss: 0.3227 - acc: 0.8513 - val_loss: 0.5245 - val_acc: 0.7642\n",
      "Epoch 49/50\n",
      "62/62 [==============================] - 0s 2ms/step - loss: 0.3226 - acc: 0.8473 - val_loss: 0.5381 - val_acc: 0.7642\n",
      "Epoch 50/50\n",
      "62/62 [==============================] - 0s 2ms/step - loss: 0.3207 - acc: 0.8473 - val_loss: 0.5143 - val_acc: 0.7398\n"
     ]
    }
   ],
   "source": [
    "history = model.fit(X_train, y_train, batch_size=BATCH_SIZE, \n",
    "                    epochs=NUM_OF_EPOCHS,\n",
    "                    verbose=1, validation_split=0.2)"
   ]
  },
  {
   "cell_type": "code",
   "execution_count": 86,
   "metadata": {},
   "outputs": [
    {
     "name": "stdout",
     "output_type": "stream",
     "text": [
      "5/5 [==============================] - 0s 2ms/step\n",
      "Test Accuracy: 70.78%\n"
     ]
    }
   ],
   "source": [
    "# Evaluate the model on test data\n",
    "y_pred = (model.predict(X_test) > 0.5).astype(\"int32\")\n",
    "accuracy = accuracy_score(y_test, y_pred)\n",
    "\n",
    "print(f\"Test Accuracy: {accuracy * 100:.2f}%\")"
   ]
  },
  {
   "cell_type": "code",
   "execution_count": 87,
   "metadata": {},
   "outputs": [],
   "source": [
    "model.save('DiabetesPredictionModel.h5')"
   ]
  },
  {
   "cell_type": "code",
   "execution_count": 88,
   "metadata": {},
   "outputs": [
    {
     "name": "stdout",
     "output_type": "stream",
     "text": [
      "<generator object representative_dataset at 0x000001A502865048>\n"
     ]
    }
   ],
   "source": [
    "def representative_dataset():\n",
    "    for _ in range(100):\n",
    "      data =  X_test\n",
    "      yield [data.astype(np.float32)]\n",
    "        \n",
    "print(representative_dataset())"
   ]
  },
  {
   "cell_type": "code",
   "execution_count": 89,
   "metadata": {},
   "outputs": [
    {
     "name": "stdout",
     "output_type": "stream",
     "text": [
      "INFO:tensorflow:Assets written to: saved_diabetes_seq_model_keras_dir\\assets\n"
     ]
    }
   ],
   "source": [
    "tf.saved_model.save(model, \"saved_diabetes_seq_model_keras_dir\")\n",
    "converter = tf.lite.TFLiteConverter.from_saved_model(\"saved_diabetes_seq_model_keras_dir\")\n",
    "converter.optimizations = [tf.lite.Optimize.DEFAULT]\n",
    "converter.representative_dataset = representative_dataset\n",
    "\n",
    "tflite_model = converter.convert()"
   ]
  },
  {
   "cell_type": "code",
   "execution_count": 90,
   "metadata": {},
   "outputs": [],
   "source": [
    "with open('DiabetesPredictionModel.tflite', 'wb') as f:\n",
    "  f.write(tflite_model)"
   ]
  },
  {
   "cell_type": "code",
   "execution_count": 91,
   "metadata": {},
   "outputs": [],
   "source": [
    "interpreter = tf.lite.Interpreter(model_path=\"DiabetesPredictionModel.tflite\")\n",
    "interpreter.allocate_tensors()"
   ]
  },
  {
   "cell_type": "code",
   "execution_count": 92,
   "metadata": {},
   "outputs": [
    {
     "name": "stdout",
     "output_type": "stream",
     "text": [
      "input_details:\n",
      " [{'name': 'serving_default_flatten_2_input:0', 'index': 0, 'shape': array([1, 8]), 'shape_signature': array([-1,  8]), 'dtype': <class 'numpy.float32'>, 'quantization': (0.0, 0), 'quantization_parameters': {'scales': array([], dtype=float32), 'zero_points': array([], dtype=int32), 'quantized_dimension': 0}, 'sparsity_parameters': {}}]\n",
      "output_details:\n",
      " [{'name': 'StatefulPartitionedCall:0', 'index': 14, 'shape': array([1, 2]), 'shape_signature': array([-1,  2]), 'dtype': <class 'numpy.float32'>, 'quantization': (0.0, 0), 'quantization_parameters': {'scales': array([], dtype=float32), 'zero_points': array([], dtype=int32), 'quantized_dimension': 0}, 'sparsity_parameters': {}}]\n"
     ]
    }
   ],
   "source": [
    "input_details = interpreter.get_input_details()\n",
    "output_details = interpreter.get_output_details()\n",
    "print('input_details:\\n', input_details)\n",
    "print('output_details:\\n', output_details)"
   ]
  },
  {
   "cell_type": "code",
   "execution_count": null,
   "metadata": {},
   "outputs": [
    {
     "name": "stdout",
     "output_type": "stream",
     "text": [
      "Random input0_data: [[0.30747336 0.16529647 0.02792511 0.3318631  0.39363113 0.05414251\n",
      "  0.2926122  0.5794854 ]]\n",
      "TFLite Model output for random input0_data: [[0.5 0.5]]\n",
      "1/1 [==============================] - 0s 37ms/step\n",
      "Keras Model output for random input0_data: [[0.49457732 0.50542265]]\n",
      "\n",
      "Custom input1_data: [[-0.83 -1.   -0.18  0.17  0.11 -0.5  -0.9  -1.04]]\n",
      "TFLite Model output for custom input1_data: [[0.99609375 0.00390625]]\n",
      "1/1 [==============================] - 0s 23ms/step\n",
      "Keras Model output for custom input1_data: [[0.99768174 0.00231829]]\n",
      "\n",
      "Custom input2_data: [[ 1.29  1.94 -0.29 -1.32 -0.7  -1.12  0.6  -0.08]]\n",
      "TFLite Model output for custom input2_data: [[0.125 0.875]]\n",
      "1/1 [==============================] - 0s 24ms/step\n",
      "Keras Model output for custom input2_data: [[0.12612183 0.8738781 ]]\n"
     ]
    }
   ],
   "source": [
    "# Test the model on random input data\n",
    "input_shape = input_details[0]['shape']\n",
    "\n",
    "# Random Input Test\n",
    "input0_data = np.random.random_sample(input_shape).astype(np.float32)\n",
    "print(\"Random input0_data:\", input0_data)\n",
    "interpreter.set_tensor(input_details[0]['index'], input0_data)\n",
    "interpreter.invoke()\n",
    "output0_data = interpreter.get_tensor(output_details[0]['index'])\n",
    "print(\"TFLite Model output for random input0_data:\", output0_data)\n",
    "\n",
    "# Verify with original Keras model\n",
    "keras_output0_data = model.predict(input0_data)\n",
    "print(\"Keras Model output for random input0_data:\", keras_output0_data)\n",
    "\n",
    "# Custom Test Input 1\n",
    "input1_data = np.array([[]], dtype=np.float32)\n",
    "print(\"\\nCustom input1_data:\", input1_data)\n",
    "interpreter.set_tensor(input_details[0]['index'], input1_data)\n",
    "interpreter.invoke()\n",
    "output1_data = interpreter.get_tensor(output_details[0]['index'])\n",
    "print(\"TFLite Model output for custom input1_data:\", output1_data)\n",
    "\n",
    "# Verify with original Keras model\n",
    "keras_output1_data = model.predict(input1_data)\n",
    "print(\"Keras Model output for custom input1_data:\", keras_output1_data)\n",
    "\n",
    "# Custom Test Input 2\n",
    "input2_data = np.array([[1.29, 1.94, -0.29, -1.32, -0.70, -1.12, 0.60, -0.08 ]], dtype=np.float32)\n",
    "print(\"\\nCustom input2_data:\", input2_data)\n",
    "interpreter.set_tensor(input_details[0]['index'], input2_data)\n",
    "interpreter.invoke()\n",
    "output2_data = interpreter.get_tensor(output_details[0]['index'])\n",
    "print(\"TFLite Model output for custom input2_data:\", output2_data)\n",
    "\n",
    "# Verify with original Keras model\n",
    "keras_output2_data = model.predict(input2_data)\n",
    "print(\"Keras Model output for custom input2_data:\", keras_output2_data)"
   ]
  },
  {
   "cell_type": "code",
   "execution_count": 94,
   "metadata": {},
   "outputs": [
    {
     "name": "stdout",
     "output_type": "stream",
     "text": [
      "5/5 [==============================] - 0s 2ms/step\n",
      "Evaluation metrics for TFLite Model:\n",
      "Accuracy: 0.7077922077922078\n",
      "[[109  45]\n",
      " [ 45 109]]\n",
      "              precision    recall  f1-score   support\n",
      "\n",
      "Non-diabetic       0.71      0.71      0.71       154\n",
      "    Diabetic       0.71      0.71      0.71       154\n",
      "\n",
      "    accuracy                           0.71       308\n",
      "   macro avg       0.71      0.71      0.71       308\n",
      "weighted avg       0.71      0.71      0.71       308\n",
      "\n",
      "\n",
      "Evaluation metrics for Keras Model:\n",
      "Accuracy: 0.7077922077922078\n",
      "[[109  45]\n",
      " [ 45 109]]\n",
      "              precision    recall  f1-score   support\n",
      "\n",
      "Non-diabetic       0.71      0.71      0.71       154\n",
      "    Diabetic       0.71      0.71      0.71       154\n",
      "\n",
      "    accuracy                           0.71       308\n",
      "   macro avg       0.71      0.71      0.71       308\n",
      "weighted avg       0.71      0.71      0.71       308\n",
      "\n"
     ]
    }
   ],
   "source": [
    "from sklearn.metrics import confusion_matrix, classification_report, accuracy_score\n",
    "# Initialize lists to store predictions\n",
    "y_pred_tflite = []\n",
    "y_pred_keras = []\n",
    "y_true = y_test  # Assuming y_test contains the ground truth labels\n",
    "\n",
    "# Run predictions on the TFLite model\n",
    "for i in range(len(X_test)):\n",
    "    input_data = np.array(X_test[i:i+1], dtype=np.float32)\n",
    "    interpreter.set_tensor(input_details[0]['index'], input_data)\n",
    "    interpreter.invoke()\n",
    "    output_data = interpreter.get_tensor(output_details[0]['index'])\n",
    "    y_pred_tflite.append((output_data[0] > 0.5).astype(int))  # Binarize the output\n",
    "\n",
    "# Run predictions on the original Keras model\n",
    "y_pred_keras = (model.predict(X_test) > 0.5).astype(int)\n",
    "\n",
    "# Convert to numpy arrays for evaluation\n",
    "y_pred_tflite = np.array(y_pred_tflite).flatten()\n",
    "y_pred_keras = y_pred_keras.flatten()\n",
    "y_true = np.array(y_true).flatten()\n",
    "\n",
    "# Calculate metrics for TFLite model\n",
    "print(\"Evaluation metrics for TFLite Model:\")\n",
    "print(\"Accuracy:\", accuracy_score(y_true, y_pred_tflite))\n",
    "print(confusion_matrix(y_true, y_pred_tflite))\n",
    "print(classification_report(y_true, y_pred_tflite, target_names=[\"Non-diabetic\", \"Diabetic\"]))\n",
    "\n",
    "# Calculate metrics for Keras model\n",
    "print(\"\\nEvaluation metrics for Keras Model:\")\n",
    "print(\"Accuracy:\", accuracy_score(y_true, y_pred_keras))\n",
    "print(confusion_matrix(y_true, y_pred_keras))\n",
    "print(classification_report(y_true, y_pred_keras, target_names=[\"Non-diabetic\", \"Diabetic\"]))"
   ]
  },
  {
   "cell_type": "code",
   "execution_count": 95,
   "metadata": {},
   "outputs": [
    {
     "name": "stdout",
     "output_type": "stream",
     "text": [
      "Keras model size: 46.91 KB\n",
      "TFLite model size: 4.50 KB\n"
     ]
    }
   ],
   "source": [
    "import os\n",
    "\n",
    "# Define the file paths\n",
    "keras_model_path = \"DiabetesPredictionModel.h5\"\n",
    "tflite_model_path = \"DiabetesPredictionModel.tflite\"\n",
    "\n",
    "# Get file sizes in KB\n",
    "keras_model_size = os.path.getsize(keras_model_path) / 1024  # Size in KB\n",
    "tflite_model_size = os.path.getsize(tflite_model_path) / 1024  # Size in KB\n",
    "\n",
    "print(f\"Keras model size: {keras_model_size:.2f} KB\")\n",
    "print(f\"TFLite model size: {tflite_model_size:.2f} KB\")"
   ]
  },
  {
   "cell_type": "code",
   "execution_count": 96,
   "metadata": {},
   "outputs": [],
   "source": [
    "# Function to convert some hex values into an array for C programming\n",
    "import time, sys\n",
    "\n",
    "# Function to convert some hex values into an array for C programming\n",
    "def hex_to_c_array(hex_data, var_name):\n",
    "    c_str = \"\"\n",
    "\n",
    "    # Create header guard\n",
    "    c_str += '#ifndef ' + var_name.upper() + '_H\\n'\n",
    "    c_str += \"#define \" + var_name.upper() + '_H\\n\\n'\n",
    "\n",
    "    c_str += \"/*\\n Author: Likhith S \\n\"\n",
    "    c_str += \" CAUTION: This is an auto generated file.\\n DO NOT EDIT OR MAKE ANY CHANGES TO IT.\\n\"\n",
    "\n",
    "# Time stamping of this model data in the generated file\n",
    "    localtime = time.asctime( time.localtime(time.time()) )\n",
    "    c_str += \" This model data was generated on \" + localtime+ '\\n\\n'\n",
    "    print(\"This model data was generated on:\", localtime)\n",
    "\n",
    "# Add information about the verisons of tools and packages used in generating this header file\n",
    "    c_str += \" Tools used:\\n Python:\" + str(sys.version) + \"\\n Numpy:\" + str(np.version.version) + \\\n",
    "          \"\\n TensorFlow:\" + str(sys.version) + \"\\n Keras: \"+ str(tf.keras.__version__) + \"\\n\\n\"\n",
    "    print(\"Tools used: Python:\", sys.version, \"\\n Numpy:\", np.version.version, \\\n",
    "          \"\\n TensorFlow:\", sys.version, \"\\n Keras: \", tf.keras.__version__, \"\\n\\n\")\n",
    "\n",
    "# Training details of the model\n",
    "    c_str += ' Model details are:\\n'\n",
    "    c_str += ' NUM_OF_EPOCHS = ' + str(NUM_OF_EPOCHS) + '\\n'\n",
    "    c_str += ' BATCH_SIZE    = ' + str(BATCH_SIZE) + '\\n*/\\n'\n",
    "    \n",
    "# Generate 'C' constants for the no. of nodes in each layer\n",
    "    c_str += '\\nconst int ' + 'DENSE1_SIZE' + ' = ' + str(DENSE1_SIZE) + ';\\n'\n",
    "    c_str +=   'const int ' + 'DENSE2_SIZE' + ' = ' + str(DENSE2_SIZE) + ';\\n'      \n",
    "    \n",
    "    # Add array length at the top of the file\n",
    "    c_str += '\\nconst unsigned int ' + var_name + '_len = ' + str(len(hex_data)) + ';\\n'\n",
    "\n",
    "    # Declare C variable\n",
    "    c_str += 'alignas(8) const unsigned char ' + var_name + '[] = {'\n",
    "    hex_array = []\n",
    "    for i, val in enumerate(hex_data):\n",
    "        # Construct string from hex\n",
    "        hex_str = format(val, '#04x')\n",
    "\n",
    "        # Add formating so each line stays within 80 characters\n",
    "        if (i + 1) < len(hex_data):\n",
    "          hex_str += ','\n",
    "        if (i + 1) % 12 == 0:\n",
    "          hex_str += '\\n'\n",
    "        hex_array.append(hex_str)\n",
    "\n",
    "    # Add closing brace\n",
    "    c_str += '\\n' + format(''.join(hex_array)) + '\\n};\\n\\n'\n",
    "\n",
    "    # Close out header guard\n",
    "    c_str += '#endif //' + var_name.upper() + '_H'\n",
    "\n",
    "    return c_str"
   ]
  },
  {
   "cell_type": "code",
   "execution_count": 97,
   "metadata": {},
   "outputs": [
    {
     "name": "stdout",
     "output_type": "stream",
     "text": [
      "This model data was generated on: Mon Nov  4 10:14:02 2024\n",
      "Tools used: Python: 3.7.1 (default, Oct 28 2018, 08:39:03) [MSC v.1912 64 bit (AMD64)] \n",
      " Numpy: 1.21.5 \n",
      " TensorFlow: 3.7.1 (default, Oct 28 2018, 08:39:03) [MSC v.1912 64 bit (AMD64)] \n",
      " Keras:  2.10.0 \n",
      "\n",
      "\n"
     ]
    }
   ],
   "source": [
    "# Write TFLite model to a C source (or header) file\n",
    "with open(\"diabetes_model_esp32\" + '.h', 'w') as file:\n",
    "  file.write(hex_to_c_array(tflite_model, \"diabetes_model_esp32\"))"
   ]
  }
 ],
 "metadata": {
  "kernelspec": {
   "display_name": "sem5_py_37",
   "language": "python",
   "name": "python3"
  },
  "language_info": {
   "codemirror_mode": {
    "name": "ipython",
    "version": 3
   },
   "file_extension": ".py",
   "mimetype": "text/x-python",
   "name": "python",
   "nbconvert_exporter": "python",
   "pygments_lexer": "ipython3",
   "version": "3.7.1"
  }
 },
 "nbformat": 4,
 "nbformat_minor": 2
}
